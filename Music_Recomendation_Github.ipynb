{
  "nbformat": 4,
  "nbformat_minor": 0,
  "metadata": {
    "colab": {
      "provenance": []
    },
    "kernelspec": {
      "name": "python3",
      "display_name": "Python 3"
    },
    "language_info": {
      "name": "python"
    }
  },
  "cells": [
    {
      "cell_type": "code",
      "execution_count": 4,
      "metadata": {
        "id": "jYcnSNJpUlaQ"
      },
      "outputs": [],
      "source": [
        "import numpy as np\n",
        "import pandas as pd\n",
        "import difflib\n",
        "from sklearn.feature_extraction.text import TfidfVectorizer\n",
        "from sklearn.metrics.pairwise  import cosine_similarity\n",
        "import itertools\n",
        "\n",
        "import seaborn as sns\n",
        "import matplotlib.pyplot as plt"
      ]
    },
    {
      "cell_type": "code",
      "source": [
        "sy_data = pd.read_csv('/content/Spotify_Youtube.csv') # Data file path read"
      ],
      "metadata": {
        "id": "nP00Mt_LU-ed"
      },
      "execution_count": 5,
      "outputs": []
    },
    {
      "cell_type": "code",
      "source": [
        "sy_data.columns"
      ],
      "metadata": {
        "colab": {
          "base_uri": "https://localhost:8080/"
        },
        "id": "JA9v9ezMeB2H",
        "outputId": "5dd04f6f-802f-456f-fa72-88e3351e966b"
      },
      "execution_count": 6,
      "outputs": [
        {
          "output_type": "execute_result",
          "data": {
            "text/plain": [
              "Index(['Unnamed: 0', 'Artist', 'Url_spotify', 'Track', 'Album', 'Album_type',\n",
              "       'Uri', 'Danceability', 'Energy', 'Key', 'Loudness', 'Speechiness',\n",
              "       'Acousticness', 'Instrumentalness', 'Liveness', 'Valence', 'Tempo',\n",
              "       'Duration_ms', 'Url_youtube', 'Title', 'Channel', 'Views', 'Likes',\n",
              "       'Comments', 'Description', 'Licensed', 'official_video', 'Stream'],\n",
              "      dtype='object')"
            ]
          },
          "metadata": {},
          "execution_count": 6
        }
      ]
    },
    {
      "cell_type": "code",
      "source": [
        "sy_data.columns"
      ],
      "metadata": {
        "colab": {
          "base_uri": "https://localhost:8080/"
        },
        "id": "0YomxwmuEm0z",
        "outputId": "49b091c9-b9f5-484e-ec83-81f077f65d13"
      },
      "execution_count": 7,
      "outputs": [
        {
          "output_type": "execute_result",
          "data": {
            "text/plain": [
              "Index(['Unnamed: 0', 'Artist', 'Url_spotify', 'Track', 'Album', 'Album_type',\n",
              "       'Uri', 'Danceability', 'Energy', 'Key', 'Loudness', 'Speechiness',\n",
              "       'Acousticness', 'Instrumentalness', 'Liveness', 'Valence', 'Tempo',\n",
              "       'Duration_ms', 'Url_youtube', 'Title', 'Channel', 'Views', 'Likes',\n",
              "       'Comments', 'Description', 'Licensed', 'official_video', 'Stream'],\n",
              "      dtype='object')"
            ]
          },
          "metadata": {},
          "execution_count": 7
        }
      ]
    },
    {
      "cell_type": "code",
      "source": [
        "sy_data.rename(columns={'Unnamed: 0': 'index'}, inplace=True)"
      ],
      "metadata": {
        "id": "8oGdB24GEsH7"
      },
      "execution_count": 8,
      "outputs": []
    },
    {
      "cell_type": "code",
      "source": [
        "sy_data.head() # Printing first 10 values"
      ],
      "metadata": {
        "colab": {
          "base_uri": "https://localhost:8080/",
          "height": 654
        },
        "id": "e_BoaGZnVGoq",
        "outputId": "833095e1-e04a-4525-dea3-9ebbf0195088"
      },
      "execution_count": 9,
      "outputs": [
        {
          "output_type": "execute_result",
          "data": {
            "text/plain": [
              "   index    Artist                                        Url_spotify  \\\n",
              "0      0  Gorillaz  https://open.spotify.com/artist/3AA28KZvwAUcZu...   \n",
              "1      1  Gorillaz  https://open.spotify.com/artist/3AA28KZvwAUcZu...   \n",
              "2      2  Gorillaz  https://open.spotify.com/artist/3AA28KZvwAUcZu...   \n",
              "3      3  Gorillaz  https://open.spotify.com/artist/3AA28KZvwAUcZu...   \n",
              "4      4  Gorillaz  https://open.spotify.com/artist/3AA28KZvwAUcZu...   \n",
              "\n",
              "                                           Track  \\\n",
              "0                                 Feel Good Inc.   \n",
              "1                                Rhinestone Eyes   \n",
              "2  New Gold (feat. Tame Impala and Bootie Brown)   \n",
              "3                             On Melancholy Hill   \n",
              "4                                 Clint Eastwood   \n",
              "\n",
              "                                           Album Album_type  \\\n",
              "0                                     Demon Days      album   \n",
              "1                                  Plastic Beach      album   \n",
              "2  New Gold (feat. Tame Impala and Bootie Brown)     single   \n",
              "3                                  Plastic Beach      album   \n",
              "4                                       Gorillaz      album   \n",
              "\n",
              "                                    Uri  Danceability  Energy   Key  ...  \\\n",
              "0  spotify:track:0d28khcov6AiegSCpG5TuT         0.818   0.705   6.0  ...   \n",
              "1  spotify:track:1foMv2HQwfQ2vntFf9HFeG         0.676   0.703   8.0  ...   \n",
              "2  spotify:track:64dLd6rVqDLtkXFYrEUHIU         0.695   0.923   1.0  ...   \n",
              "3  spotify:track:0q6LuUqGLUiCPP1cbdwFs3         0.689   0.739   2.0  ...   \n",
              "4  spotify:track:7yMiX7n9SBvadzox8T5jzT         0.663   0.694  10.0  ...   \n",
              "\n",
              "                                   Url_youtube  \\\n",
              "0  https://www.youtube.com/watch?v=HyHNuVaZJ-k   \n",
              "1  https://www.youtube.com/watch?v=yYDmaexVHic   \n",
              "2  https://www.youtube.com/watch?v=qJa-VFwPpYA   \n",
              "3  https://www.youtube.com/watch?v=04mfKJWDSzI   \n",
              "4  https://www.youtube.com/watch?v=1V_xRb0x9aw   \n",
              "\n",
              "                                               Title   Channel        Views  \\\n",
              "0         Gorillaz - Feel Good Inc. (Official Video)  Gorillaz  693555221.0   \n",
              "1  Gorillaz - Rhinestone Eyes [Storyboard Film] (...  Gorillaz   72011645.0   \n",
              "2  Gorillaz - New Gold ft. Tame Impala & Bootie B...  Gorillaz    8435055.0   \n",
              "3     Gorillaz - On Melancholy Hill (Official Video)  Gorillaz  211754952.0   \n",
              "4         Gorillaz - Clint Eastwood (Official Video)  Gorillaz  618480958.0   \n",
              "\n",
              "       Likes  Comments                                        Description  \\\n",
              "0  6220896.0  169907.0  Official HD Video for Gorillaz' fantastic trac...   \n",
              "1  1079128.0   31003.0  The official video for Gorillaz - Rhinestone E...   \n",
              "2   282142.0    7399.0  Gorillaz - New Gold ft. Tame Impala & Bootie B...   \n",
              "3  1788577.0   55229.0  Follow Gorillaz online:\\nhttp://gorillaz.com \\...   \n",
              "4  6197318.0  155930.0  The official music video for Gorillaz - Clint ...   \n",
              "\n",
              "   Licensed official_video        Stream  \n",
              "0      True           True  1.040235e+09  \n",
              "1      True           True  3.100837e+08  \n",
              "2      True           True  6.306347e+07  \n",
              "3      True           True  4.346636e+08  \n",
              "4      True           True  6.172597e+08  \n",
              "\n",
              "[5 rows x 28 columns]"
            ],
            "text/html": [
              "\n",
              "  <div id=\"df-d68101c5-4586-44df-8265-4bac8a7d64b3\" class=\"colab-df-container\">\n",
              "    <div>\n",
              "<style scoped>\n",
              "    .dataframe tbody tr th:only-of-type {\n",
              "        vertical-align: middle;\n",
              "    }\n",
              "\n",
              "    .dataframe tbody tr th {\n",
              "        vertical-align: top;\n",
              "    }\n",
              "\n",
              "    .dataframe thead th {\n",
              "        text-align: right;\n",
              "    }\n",
              "</style>\n",
              "<table border=\"1\" class=\"dataframe\">\n",
              "  <thead>\n",
              "    <tr style=\"text-align: right;\">\n",
              "      <th></th>\n",
              "      <th>index</th>\n",
              "      <th>Artist</th>\n",
              "      <th>Url_spotify</th>\n",
              "      <th>Track</th>\n",
              "      <th>Album</th>\n",
              "      <th>Album_type</th>\n",
              "      <th>Uri</th>\n",
              "      <th>Danceability</th>\n",
              "      <th>Energy</th>\n",
              "      <th>Key</th>\n",
              "      <th>...</th>\n",
              "      <th>Url_youtube</th>\n",
              "      <th>Title</th>\n",
              "      <th>Channel</th>\n",
              "      <th>Views</th>\n",
              "      <th>Likes</th>\n",
              "      <th>Comments</th>\n",
              "      <th>Description</th>\n",
              "      <th>Licensed</th>\n",
              "      <th>official_video</th>\n",
              "      <th>Stream</th>\n",
              "    </tr>\n",
              "  </thead>\n",
              "  <tbody>\n",
              "    <tr>\n",
              "      <th>0</th>\n",
              "      <td>0</td>\n",
              "      <td>Gorillaz</td>\n",
              "      <td>https://open.spotify.com/artist/3AA28KZvwAUcZu...</td>\n",
              "      <td>Feel Good Inc.</td>\n",
              "      <td>Demon Days</td>\n",
              "      <td>album</td>\n",
              "      <td>spotify:track:0d28khcov6AiegSCpG5TuT</td>\n",
              "      <td>0.818</td>\n",
              "      <td>0.705</td>\n",
              "      <td>6.0</td>\n",
              "      <td>...</td>\n",
              "      <td>https://www.youtube.com/watch?v=HyHNuVaZJ-k</td>\n",
              "      <td>Gorillaz - Feel Good Inc. (Official Video)</td>\n",
              "      <td>Gorillaz</td>\n",
              "      <td>693555221.0</td>\n",
              "      <td>6220896.0</td>\n",
              "      <td>169907.0</td>\n",
              "      <td>Official HD Video for Gorillaz' fantastic trac...</td>\n",
              "      <td>True</td>\n",
              "      <td>True</td>\n",
              "      <td>1.040235e+09</td>\n",
              "    </tr>\n",
              "    <tr>\n",
              "      <th>1</th>\n",
              "      <td>1</td>\n",
              "      <td>Gorillaz</td>\n",
              "      <td>https://open.spotify.com/artist/3AA28KZvwAUcZu...</td>\n",
              "      <td>Rhinestone Eyes</td>\n",
              "      <td>Plastic Beach</td>\n",
              "      <td>album</td>\n",
              "      <td>spotify:track:1foMv2HQwfQ2vntFf9HFeG</td>\n",
              "      <td>0.676</td>\n",
              "      <td>0.703</td>\n",
              "      <td>8.0</td>\n",
              "      <td>...</td>\n",
              "      <td>https://www.youtube.com/watch?v=yYDmaexVHic</td>\n",
              "      <td>Gorillaz - Rhinestone Eyes [Storyboard Film] (...</td>\n",
              "      <td>Gorillaz</td>\n",
              "      <td>72011645.0</td>\n",
              "      <td>1079128.0</td>\n",
              "      <td>31003.0</td>\n",
              "      <td>The official video for Gorillaz - Rhinestone E...</td>\n",
              "      <td>True</td>\n",
              "      <td>True</td>\n",
              "      <td>3.100837e+08</td>\n",
              "    </tr>\n",
              "    <tr>\n",
              "      <th>2</th>\n",
              "      <td>2</td>\n",
              "      <td>Gorillaz</td>\n",
              "      <td>https://open.spotify.com/artist/3AA28KZvwAUcZu...</td>\n",
              "      <td>New Gold (feat. Tame Impala and Bootie Brown)</td>\n",
              "      <td>New Gold (feat. Tame Impala and Bootie Brown)</td>\n",
              "      <td>single</td>\n",
              "      <td>spotify:track:64dLd6rVqDLtkXFYrEUHIU</td>\n",
              "      <td>0.695</td>\n",
              "      <td>0.923</td>\n",
              "      <td>1.0</td>\n",
              "      <td>...</td>\n",
              "      <td>https://www.youtube.com/watch?v=qJa-VFwPpYA</td>\n",
              "      <td>Gorillaz - New Gold ft. Tame Impala &amp; Bootie B...</td>\n",
              "      <td>Gorillaz</td>\n",
              "      <td>8435055.0</td>\n",
              "      <td>282142.0</td>\n",
              "      <td>7399.0</td>\n",
              "      <td>Gorillaz - New Gold ft. Tame Impala &amp; Bootie B...</td>\n",
              "      <td>True</td>\n",
              "      <td>True</td>\n",
              "      <td>6.306347e+07</td>\n",
              "    </tr>\n",
              "    <tr>\n",
              "      <th>3</th>\n",
              "      <td>3</td>\n",
              "      <td>Gorillaz</td>\n",
              "      <td>https://open.spotify.com/artist/3AA28KZvwAUcZu...</td>\n",
              "      <td>On Melancholy Hill</td>\n",
              "      <td>Plastic Beach</td>\n",
              "      <td>album</td>\n",
              "      <td>spotify:track:0q6LuUqGLUiCPP1cbdwFs3</td>\n",
              "      <td>0.689</td>\n",
              "      <td>0.739</td>\n",
              "      <td>2.0</td>\n",
              "      <td>...</td>\n",
              "      <td>https://www.youtube.com/watch?v=04mfKJWDSzI</td>\n",
              "      <td>Gorillaz - On Melancholy Hill (Official Video)</td>\n",
              "      <td>Gorillaz</td>\n",
              "      <td>211754952.0</td>\n",
              "      <td>1788577.0</td>\n",
              "      <td>55229.0</td>\n",
              "      <td>Follow Gorillaz online:\\nhttp://gorillaz.com \\...</td>\n",
              "      <td>True</td>\n",
              "      <td>True</td>\n",
              "      <td>4.346636e+08</td>\n",
              "    </tr>\n",
              "    <tr>\n",
              "      <th>4</th>\n",
              "      <td>4</td>\n",
              "      <td>Gorillaz</td>\n",
              "      <td>https://open.spotify.com/artist/3AA28KZvwAUcZu...</td>\n",
              "      <td>Clint Eastwood</td>\n",
              "      <td>Gorillaz</td>\n",
              "      <td>album</td>\n",
              "      <td>spotify:track:7yMiX7n9SBvadzox8T5jzT</td>\n",
              "      <td>0.663</td>\n",
              "      <td>0.694</td>\n",
              "      <td>10.0</td>\n",
              "      <td>...</td>\n",
              "      <td>https://www.youtube.com/watch?v=1V_xRb0x9aw</td>\n",
              "      <td>Gorillaz - Clint Eastwood (Official Video)</td>\n",
              "      <td>Gorillaz</td>\n",
              "      <td>618480958.0</td>\n",
              "      <td>6197318.0</td>\n",
              "      <td>155930.0</td>\n",
              "      <td>The official music video for Gorillaz - Clint ...</td>\n",
              "      <td>True</td>\n",
              "      <td>True</td>\n",
              "      <td>6.172597e+08</td>\n",
              "    </tr>\n",
              "  </tbody>\n",
              "</table>\n",
              "<p>5 rows × 28 columns</p>\n",
              "</div>\n",
              "    <div class=\"colab-df-buttons\">\n",
              "\n",
              "  <div class=\"colab-df-container\">\n",
              "    <button class=\"colab-df-convert\" onclick=\"convertToInteractive('df-d68101c5-4586-44df-8265-4bac8a7d64b3')\"\n",
              "            title=\"Convert this dataframe to an interactive table.\"\n",
              "            style=\"display:none;\">\n",
              "\n",
              "  <svg xmlns=\"http://www.w3.org/2000/svg\" height=\"24px\" viewBox=\"0 -960 960 960\">\n",
              "    <path d=\"M120-120v-720h720v720H120Zm60-500h600v-160H180v160Zm220 220h160v-160H400v160Zm0 220h160v-160H400v160ZM180-400h160v-160H180v160Zm440 0h160v-160H620v160ZM180-180h160v-160H180v160Zm440 0h160v-160H620v160Z\"/>\n",
              "  </svg>\n",
              "    </button>\n",
              "\n",
              "  <style>\n",
              "    .colab-df-container {\n",
              "      display:flex;\n",
              "      gap: 12px;\n",
              "    }\n",
              "\n",
              "    .colab-df-convert {\n",
              "      background-color: #E8F0FE;\n",
              "      border: none;\n",
              "      border-radius: 50%;\n",
              "      cursor: pointer;\n",
              "      display: none;\n",
              "      fill: #1967D2;\n",
              "      height: 32px;\n",
              "      padding: 0 0 0 0;\n",
              "      width: 32px;\n",
              "    }\n",
              "\n",
              "    .colab-df-convert:hover {\n",
              "      background-color: #E2EBFA;\n",
              "      box-shadow: 0px 1px 2px rgba(60, 64, 67, 0.3), 0px 1px 3px 1px rgba(60, 64, 67, 0.15);\n",
              "      fill: #174EA6;\n",
              "    }\n",
              "\n",
              "    .colab-df-buttons div {\n",
              "      margin-bottom: 4px;\n",
              "    }\n",
              "\n",
              "    [theme=dark] .colab-df-convert {\n",
              "      background-color: #3B4455;\n",
              "      fill: #D2E3FC;\n",
              "    }\n",
              "\n",
              "    [theme=dark] .colab-df-convert:hover {\n",
              "      background-color: #434B5C;\n",
              "      box-shadow: 0px 1px 3px 1px rgba(0, 0, 0, 0.15);\n",
              "      filter: drop-shadow(0px 1px 2px rgba(0, 0, 0, 0.3));\n",
              "      fill: #FFFFFF;\n",
              "    }\n",
              "  </style>\n",
              "\n",
              "    <script>\n",
              "      const buttonEl =\n",
              "        document.querySelector('#df-d68101c5-4586-44df-8265-4bac8a7d64b3 button.colab-df-convert');\n",
              "      buttonEl.style.display =\n",
              "        google.colab.kernel.accessAllowed ? 'block' : 'none';\n",
              "\n",
              "      async function convertToInteractive(key) {\n",
              "        const element = document.querySelector('#df-d68101c5-4586-44df-8265-4bac8a7d64b3');\n",
              "        const dataTable =\n",
              "          await google.colab.kernel.invokeFunction('convertToInteractive',\n",
              "                                                    [key], {});\n",
              "        if (!dataTable) return;\n",
              "\n",
              "        const docLinkHtml = 'Like what you see? Visit the ' +\n",
              "          '<a target=\"_blank\" href=https://colab.research.google.com/notebooks/data_table.ipynb>data table notebook</a>'\n",
              "          + ' to learn more about interactive tables.';\n",
              "        element.innerHTML = '';\n",
              "        dataTable['output_type'] = 'display_data';\n",
              "        await google.colab.output.renderOutput(dataTable, element);\n",
              "        const docLink = document.createElement('div');\n",
              "        docLink.innerHTML = docLinkHtml;\n",
              "        element.appendChild(docLink);\n",
              "      }\n",
              "    </script>\n",
              "  </div>\n",
              "\n",
              "\n",
              "<div id=\"df-ffa97f22-1954-4129-b893-eda0422e4b92\">\n",
              "  <button class=\"colab-df-quickchart\" onclick=\"quickchart('df-ffa97f22-1954-4129-b893-eda0422e4b92')\"\n",
              "            title=\"Suggest charts.\"\n",
              "            style=\"display:none;\">\n",
              "\n",
              "<svg xmlns=\"http://www.w3.org/2000/svg\" height=\"24px\"viewBox=\"0 0 24 24\"\n",
              "     width=\"24px\">\n",
              "    <g>\n",
              "        <path d=\"M19 3H5c-1.1 0-2 .9-2 2v14c0 1.1.9 2 2 2h14c1.1 0 2-.9 2-2V5c0-1.1-.9-2-2-2zM9 17H7v-7h2v7zm4 0h-2V7h2v10zm4 0h-2v-4h2v4z\"/>\n",
              "    </g>\n",
              "</svg>\n",
              "  </button>\n",
              "\n",
              "<style>\n",
              "  .colab-df-quickchart {\n",
              "      --bg-color: #E8F0FE;\n",
              "      --fill-color: #1967D2;\n",
              "      --hover-bg-color: #E2EBFA;\n",
              "      --hover-fill-color: #174EA6;\n",
              "      --disabled-fill-color: #AAA;\n",
              "      --disabled-bg-color: #DDD;\n",
              "  }\n",
              "\n",
              "  [theme=dark] .colab-df-quickchart {\n",
              "      --bg-color: #3B4455;\n",
              "      --fill-color: #D2E3FC;\n",
              "      --hover-bg-color: #434B5C;\n",
              "      --hover-fill-color: #FFFFFF;\n",
              "      --disabled-bg-color: #3B4455;\n",
              "      --disabled-fill-color: #666;\n",
              "  }\n",
              "\n",
              "  .colab-df-quickchart {\n",
              "    background-color: var(--bg-color);\n",
              "    border: none;\n",
              "    border-radius: 50%;\n",
              "    cursor: pointer;\n",
              "    display: none;\n",
              "    fill: var(--fill-color);\n",
              "    height: 32px;\n",
              "    padding: 0;\n",
              "    width: 32px;\n",
              "  }\n",
              "\n",
              "  .colab-df-quickchart:hover {\n",
              "    background-color: var(--hover-bg-color);\n",
              "    box-shadow: 0 1px 2px rgba(60, 64, 67, 0.3), 0 1px 3px 1px rgba(60, 64, 67, 0.15);\n",
              "    fill: var(--button-hover-fill-color);\n",
              "  }\n",
              "\n",
              "  .colab-df-quickchart-complete:disabled,\n",
              "  .colab-df-quickchart-complete:disabled:hover {\n",
              "    background-color: var(--disabled-bg-color);\n",
              "    fill: var(--disabled-fill-color);\n",
              "    box-shadow: none;\n",
              "  }\n",
              "\n",
              "  .colab-df-spinner {\n",
              "    border: 2px solid var(--fill-color);\n",
              "    border-color: transparent;\n",
              "    border-bottom-color: var(--fill-color);\n",
              "    animation:\n",
              "      spin 1s steps(1) infinite;\n",
              "  }\n",
              "\n",
              "  @keyframes spin {\n",
              "    0% {\n",
              "      border-color: transparent;\n",
              "      border-bottom-color: var(--fill-color);\n",
              "      border-left-color: var(--fill-color);\n",
              "    }\n",
              "    20% {\n",
              "      border-color: transparent;\n",
              "      border-left-color: var(--fill-color);\n",
              "      border-top-color: var(--fill-color);\n",
              "    }\n",
              "    30% {\n",
              "      border-color: transparent;\n",
              "      border-left-color: var(--fill-color);\n",
              "      border-top-color: var(--fill-color);\n",
              "      border-right-color: var(--fill-color);\n",
              "    }\n",
              "    40% {\n",
              "      border-color: transparent;\n",
              "      border-right-color: var(--fill-color);\n",
              "      border-top-color: var(--fill-color);\n",
              "    }\n",
              "    60% {\n",
              "      border-color: transparent;\n",
              "      border-right-color: var(--fill-color);\n",
              "    }\n",
              "    80% {\n",
              "      border-color: transparent;\n",
              "      border-right-color: var(--fill-color);\n",
              "      border-bottom-color: var(--fill-color);\n",
              "    }\n",
              "    90% {\n",
              "      border-color: transparent;\n",
              "      border-bottom-color: var(--fill-color);\n",
              "    }\n",
              "  }\n",
              "</style>\n",
              "\n",
              "  <script>\n",
              "    async function quickchart(key) {\n",
              "      const quickchartButtonEl =\n",
              "        document.querySelector('#' + key + ' button');\n",
              "      quickchartButtonEl.disabled = true;  // To prevent multiple clicks.\n",
              "      quickchartButtonEl.classList.add('colab-df-spinner');\n",
              "      try {\n",
              "        const charts = await google.colab.kernel.invokeFunction(\n",
              "            'suggestCharts', [key], {});\n",
              "      } catch (error) {\n",
              "        console.error('Error during call to suggestCharts:', error);\n",
              "      }\n",
              "      quickchartButtonEl.classList.remove('colab-df-spinner');\n",
              "      quickchartButtonEl.classList.add('colab-df-quickchart-complete');\n",
              "    }\n",
              "    (() => {\n",
              "      let quickchartButtonEl =\n",
              "        document.querySelector('#df-ffa97f22-1954-4129-b893-eda0422e4b92 button');\n",
              "      quickchartButtonEl.style.display =\n",
              "        google.colab.kernel.accessAllowed ? 'block' : 'none';\n",
              "    })();\n",
              "  </script>\n",
              "</div>\n",
              "    </div>\n",
              "  </div>\n"
            ]
          },
          "metadata": {},
          "execution_count": 9
        }
      ]
    },
    {
      "cell_type": "code",
      "source": [
        "sy_data.shape"
      ],
      "metadata": {
        "colab": {
          "base_uri": "https://localhost:8080/"
        },
        "id": "vSJgezr_X4p8",
        "outputId": "9d4e7248-d9e7-44de-fba8-b359573484b9"
      },
      "execution_count": 10,
      "outputs": [
        {
          "output_type": "execute_result",
          "data": {
            "text/plain": [
              "(20718, 28)"
            ]
          },
          "metadata": {},
          "execution_count": 10
        }
      ]
    },
    {
      "cell_type": "code",
      "source": [
        "selected_feature = ['Artist','Track','Album','Title','Danceability','Energy']\n",
        "print(selected_feature)"
      ],
      "metadata": {
        "colab": {
          "base_uri": "https://localhost:8080/"
        },
        "id": "tsW8-pFvX91J",
        "outputId": "8c07f1a7-f502-4f54-9c7b-8fb0bb1ba8bc"
      },
      "execution_count": 11,
      "outputs": [
        {
          "output_type": "stream",
          "name": "stdout",
          "text": [
            "['Artist', 'Track', 'Album', 'Title', 'Danceability', 'Energy']\n"
          ]
        }
      ]
    },
    {
      "cell_type": "code",
      "source": [
        "for feature in selected_feature:\n",
        "  sy_data[feature] = sy_data[feature].fillna('')"
      ],
      "metadata": {
        "id": "5NH9F26xYSjG"
      },
      "execution_count": 12,
      "outputs": []
    },
    {
      "cell_type": "code",
      "source": [
        "combined_feature = sy_data['Artist']+' '+sy_data['Track']+' '+sy_data['Album']+' '+sy_data['Title']"
      ],
      "metadata": {
        "id": "X_MZRYXCYalm"
      },
      "execution_count": 13,
      "outputs": []
    },
    {
      "cell_type": "code",
      "source": [
        "#print(combined_feature)"
      ],
      "metadata": {
        "id": "j_x4A_DtZObc"
      },
      "execution_count": 14,
      "outputs": []
    },
    {
      "cell_type": "code",
      "source": [
        "from numpy.lib.function_base import vectorize\n",
        "vectorizer = TfidfVectorizer()"
      ],
      "metadata": {
        "id": "orkLMH28ZRIs"
      },
      "execution_count": 15,
      "outputs": []
    },
    {
      "cell_type": "code",
      "source": [
        "feature_vectors = vectorizer.fit_transform(combined_feature)"
      ],
      "metadata": {
        "id": "a-NMzpaYZUZS"
      },
      "execution_count": 16,
      "outputs": []
    },
    {
      "cell_type": "code",
      "source": [
        "#print(feature_vectors)"
      ],
      "metadata": {
        "id": "RgBt-c9hZaBC"
      },
      "execution_count": 18,
      "outputs": []
    },
    {
      "cell_type": "code",
      "source": [
        "# similarity score using cosine similarity\n",
        "similarity = cosine_similarity(feature_vectors)"
      ],
      "metadata": {
        "id": "p4J9rxfxZddt"
      },
      "execution_count": 19,
      "outputs": []
    },
    {
      "cell_type": "code",
      "source": [
        "print(similarity.shape)\n"
      ],
      "metadata": {
        "colab": {
          "base_uri": "https://localhost:8080/"
        },
        "id": "sycMZaukZmSc",
        "outputId": "4c5b75f2-5db2-4e22-c700-c59844bfe529"
      },
      "execution_count": 20,
      "outputs": [
        {
          "output_type": "stream",
          "name": "stdout",
          "text": [
            "(20718, 20718)\n"
          ]
        }
      ]
    },
    {
      "cell_type": "code",
      "source": [
        "song_name = input(\"Enter the song name: \")"
      ],
      "metadata": {
        "colab": {
          "base_uri": "https://localhost:8080/"
        },
        "id": "xuccnvnDZn21",
        "outputId": "0d7465f7-89e7-49c4-9ce0-a915cacbefc4"
      },
      "execution_count": 23,
      "outputs": [
        {
          "name": "stdout",
          "output_type": "stream",
          "text": [
            "Enter the song name: The night we met\n"
          ]
        }
      ]
    },
    {
      "cell_type": "code",
      "source": [
        "list_song = sy_data['Track'].tolist()\n",
        "#print(list_song)"
      ],
      "metadata": {
        "id": "exNjJXHLZuIU"
      },
      "execution_count": 25,
      "outputs": []
    },
    {
      "cell_type": "code",
      "source": [
        "from pandas.core.algorithms import diff\n",
        "find_match = difflib.get_close_matches(song_name, list_song)\n",
        "print(find_match)"
      ],
      "metadata": {
        "colab": {
          "base_uri": "https://localhost:8080/"
        },
        "id": "9aidiDpWaain",
        "outputId": "7b7a80d4-aff9-4cbb-eb91-e66a10f1f273"
      },
      "execution_count": 26,
      "outputs": [
        {
          "output_type": "stream",
          "name": "stdout",
          "text": [
            "['The Night We Met', 'The Fighter', 'The Light Is On']\n"
          ]
        }
      ]
    },
    {
      "cell_type": "code",
      "source": [
        "find_closematch = find_match[0]\n",
        "print(find_closematch)"
      ],
      "metadata": {
        "colab": {
          "base_uri": "https://localhost:8080/"
        },
        "id": "HU_zk6bLamOm",
        "outputId": "9c483c8b-cf78-4a4f-8d67-73cb686a7d6a"
      },
      "execution_count": 27,
      "outputs": [
        {
          "output_type": "stream",
          "name": "stdout",
          "text": [
            "The Night We Met\n"
          ]
        }
      ]
    },
    {
      "cell_type": "code",
      "source": [
        "index_music = sy_data[sy_data.Track == find_closematch]['index'].values[0]\n",
        "print(index_music)"
      ],
      "metadata": {
        "colab": {
          "base_uri": "https://localhost:8080/"
        },
        "id": "ITMknT60apXV",
        "outputId": "b278f957-60e4-4680-bbbe-b4e3f6c704ff"
      },
      "execution_count": 28,
      "outputs": [
        {
          "output_type": "stream",
          "name": "stdout",
          "text": [
            "14838\n"
          ]
        }
      ]
    },
    {
      "cell_type": "code",
      "source": [
        "\n",
        "similarity_score = list(enumerate(similarity[index_music]))\n",
        "#print(similarity_score)"
      ],
      "metadata": {
        "id": "TV8ds5aJbdzP"
      },
      "execution_count": 30,
      "outputs": []
    },
    {
      "cell_type": "code",
      "source": [
        "x = [d[0] for d in similarity_score]\n",
        "y = [d[1] for d in similarity_score]\n",
        "\n",
        "# Create scatter plot\n",
        "plt.scatter(x, y)\n",
        "plt.show()"
      ],
      "metadata": {
        "colab": {
          "base_uri": "https://localhost:8080/",
          "height": 430
        },
        "id": "OSj_HzKhmSUf",
        "outputId": "35d51ee7-f507-4907-e444-38bb9cc21207"
      },
      "execution_count": 31,
      "outputs": [
        {
          "output_type": "display_data",
          "data": {
            "text/plain": [
              "<Figure size 640x480 with 1 Axes>"
            ],
            "image/png": "[encoded data removed]"
          },
          "metadata": {}
        }
      ]
    },
    {
      "cell_type": "code",
      "source": [
        "from ast import Lambda\n",
        "# sorting the songs based on similarity score\n",
        "sorted_similarity = sorted(similarity_score, key = lambda x:x[1], reverse = True)\n",
        "#print(sorted_similarity)"
      ],
      "metadata": {
        "id": "hFYjCUDQbnJj"
      },
      "execution_count": 33,
      "outputs": []
    },
    {
      "cell_type": "code",
      "source": [
        "print(\"Music suggested\")\n",
        "i=1\n",
        "for music in sorted_similarity:\n",
        "  index = music[0]\n",
        "  title_music = sy_data[sy_data.index == index ]['Track'].values[0]\n",
        "  if (i<16):\n",
        "    print(i, '.',title_music)\n",
        "    i=i+1"
      ],
      "metadata": {
        "colab": {
          "base_uri": "https://localhost:8080/"
        },
        "id": "RMn0XuZnbsMc",
        "outputId": "225acaa6-951e-404b-dc75-461a13795ff3"
      },
      "execution_count": 34,
      "outputs": [
        {
          "output_type": "stream",
          "name": "stdout",
          "text": [
            "Music suggested\n",
            "1 . The Night We Met\n",
            "2 . The Night We Met (feat. Phoebe Bridgers)\n",
            "3 . Love Like Ghosts\n",
            "4 . Meet Me in the Woods\n",
            "5 . When the Night is Over\n",
            "6 . The Moon Doesn’t Mind\n",
            "7 . Ends of the Earth\n",
            "8 . Love Me Like You Used To\n",
            "9 . Harvest Moon - Recorded at Spotify Studios NYC\n",
            "10 . if we never met - remix\n",
            "11 . I Lied (with Allison Ponthier)\n",
            "12 . Have We Met Before?\n",
            "13 . Tum Se Hi\n",
            "14 . All Night\n",
            "15 . Middle Of The Night\n"
          ]
        }
      ]
    },
    {
      "cell_type": "code",
      "source": [
        "song_name = input(\"Enter the song name: \")\n",
        "list_song = sy_data['Track'].tolist()\n",
        "find_match = difflib.get_close_matches(song_name, list_song)\n",
        "find_closematch = find_match[0]\n",
        "index_music = sy_data[sy_data.Track == find_closematch]['index'].values[0]\n",
        "similarity_score = list(enumerate(similarity[index_music]))\n",
        "sorted_similarity = sorted(similarity_score, key = lambda x:x[1], reverse = True)\n",
        "print(\"Music suggested\")\n",
        "i=1\n",
        "for music in sorted_similarity:\n",
        "  index = music[0]\n",
        "  title_music = sy_data[sy_data.index == index ]['Track'].values[0]\n",
        "  if (i<16):\n",
        "    print(i, '.',title_music)\n",
        "    i=i+1\n",
        "\n",
        "x = [d[0] for d in similarity_score]\n",
        "y = [d[1] for d in similarity_score]\n",
        "\n",
        "# Create scatter plot\n",
        "plt.scatter(x, y)\n",
        "plt.show()"
      ],
      "metadata": {
        "colab": {
          "base_uri": "https://localhost:8080/",
          "height": 740
        },
        "id": "DCcCHZ8BFj8V",
        "outputId": "a093550e-c68f-464b-ac02-d22924f61250"
      },
      "execution_count": 35,
      "outputs": [
        {
          "output_type": "stream",
          "name": "stdout",
          "text": [
            "Enter the song name: Daylight\n",
            "Music suggested\n",
            "1 . Daylight\n",
            "2 . On the Nature of Daylight\n",
            "3 . Genius (feat. Sia, Diplo, and Labrinth)\n",
            "4 . Thunderclouds (feat. Sia, Diplo, and Labrinth)\n",
            "5 . Old Town Road - Diplo Remix\n",
            "6 . Wish - Trippie Mix\n",
            "7 . Where Are Ü Now (with Justin Bieber)\n",
            "8 . Don't Forget My Love\n",
            "9 . On My Mind\n",
            "10 . Heartless (feat. Morgan Wallen)\n",
            "11 . My Curse\n",
            "12 . Genius (feat. Sia, Diplo, and Labrinth)\n",
            "13 . Genius (feat. Sia, Diplo, and Labrinth)\n",
            "14 . Thunderclouds (feat. Sia, Diplo, and Labrinth)\n",
            "15 . This Fire\n"
          ]
        },
        {
          "output_type": "display_data",
          "data": {
            "text/plain": [
              "<Figure size 640x480 with 1 Axes>"
            ],
            "image/png": "[encoded data removed]"
          },
          "metadata": {}
        }
      ]
    }
  ]
}